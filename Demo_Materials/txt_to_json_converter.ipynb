{
 "cells": [
  {
   "cell_type": "code",
   "execution_count": 29,
   "metadata": {
    "collapsed": false
   },
   "outputs": [],
   "source": [
    "import json\n",
    "import io\n",
    "import sys\n",
    "import csv\n",
    "import pandas as pd\n",
    "from itertools import islice\n",
    "\n",
    "exe_1 = input('Enter the name of the first executable: ')\n",
    "exe_2 = input('Enter the name of the second executable: ')\n",
    "\n",
    "\n",
    "\n",
    "outfilename  = open(\"base32SizeDump_test_output.txt\",'w')\n",
    "sys.stdout = outfilename\n",
    "\n",
    "with open(\"base32SizeDump_test.txt\") as file:\n",
    "    for line in file:\n",
    "        line = line.lstrip()\n",
    "        if (line.count(\" \") == 3):\n",
    "            print (line)\n",
    "\n",
    "\n",
    "            \n",
    "\n",
    "\n"
   ]
  },
  {
   "cell_type": "code",
   "execution_count": 31,
   "metadata": {
    "collapsed": false
   },
   "outputs": [
    {
     "data": {
      "text/plain": [
       "Address        0000000000006200\n",
       "Size           0000000000000029\n",
       "Type                          t\n",
       "Symbol_Name              atexit\n",
       "Name: 0, dtype: object"
      ]
     },
     "execution_count": 31,
     "metadata": {},
     "output_type": "execute_result"
    }
   ],
   "source": [
    "df = pd.read_table('base32SizeDump_test_output.txt', delimiter = ' ', header = None)\n",
    "df.columns = ['Address', 'Size', 'Type', 'Symbol_Name']\n",
    "df.reset_index().to_json(orient='records')\n",
    "\n",
    "df.ix[0]\n",
    "\n"
   ]
  },
  {
   "cell_type": "code",
   "execution_count": 27,
   "metadata": {
    "collapsed": false
   },
   "outputs": [],
   "source": []
  },
  {
   "cell_type": "code",
   "execution_count": null,
   "metadata": {
    "collapsed": true
   },
   "outputs": [],
   "source": []
  }
 ],
 "metadata": {
  "kernelspec": {
   "display_name": "Python 3",
   "language": "python",
   "name": "python3"
  },
  "language_info": {
   "codemirror_mode": {
    "name": "ipython",
    "version": 3
   },
   "file_extension": ".py",
   "mimetype": "text/x-python",
   "name": "python",
   "nbconvert_exporter": "python",
   "pygments_lexer": "ipython3",
   "version": "3.6.0"
  }
 },
 "nbformat": 4,
 "nbformat_minor": 2
}
