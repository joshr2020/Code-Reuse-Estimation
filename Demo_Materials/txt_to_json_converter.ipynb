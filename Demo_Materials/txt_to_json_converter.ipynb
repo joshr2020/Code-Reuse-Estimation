{
 "cells": [
  {
   "cell_type": "code",
   "execution_count": 39,
   "metadata": {
    "collapsed": false
   },
   "outputs": [],
   "source": [
    "import json\n",
    "import io\n",
    "import sys\n",
    "import csv\n",
    "import pandas as pd\n",
    "from pandas.io.json import json_normalize\n",
    "\n",
    "\n",
    "outfilename  = open(\"base32SizeDump_test_output.txt\",'w')\n",
    "sys.stdout = outfilename\n",
    "\n",
    "with open(\"base32SizeDump_test.txt\") as file:\n",
    "    for line in file:\n",
    "        line = line.lstrip()\n",
    "        if (line.count(\" \") == 3):\n",
    "            print (line)\n",
    "\n",
    "\n",
    "            \n",
    "\n",
    "\n"
   ]
  },
  {
   "cell_type": "code",
   "execution_count": 40,
   "metadata": {
    "collapsed": false
   },
   "outputs": [],
   "source": [
    "# csvfile = open('base32SizeDump_test_output.txt', 'r')\n",
    "# jsonfile = open('base32SizeDump_test_output.json', 'w')\n",
    "    \n",
    "\n",
    "\n",
    "df = pd.read_table('base32SizeDump_test_output.txt', delimiter = ' ', header = None)\n",
    "df.columns = ['Address', 'Size', 'Type', 'Symbol_Name']\n",
    "df.reset_index().to_json(orient='records')\n",
    "\n",
    "f = open(\"temp.txt\", \"w\")\n",
    "\n",
    "f.write(\"[\\n\")\n",
    "for row in df.iterrows():\n",
    "    row[1].to_json(f)\n",
    "    f.write(\",\\n\")\n",
    "f.write(\"]\")\n",
    "\n",
    "f.close()\n",
    "\n",
    "\n",
    "# fieldnames = (\"Address\",\"Size\",\"Type\",\"Symbol_Name\")\n",
    "# reader = csv.DictReader( csvfile, fieldnames)\n",
    "# out = json.dumps( [ row for row in reader ] )\n",
    "# jsonfile.write(out)\n",
    "\n",
    "# with open('base32SizeDump_test_output.txt', 'rb') as csvfile:\n",
    "#     filereader = csv.reader(csvfile, delimiter=' ')\n",
    "#     i = 0\n",
    "#     header = []\n",
    "#     out_data = []\n",
    "#     for row in filereader:\n",
    "#         row = [elem for elem in row if elem]\n",
    "#         if i == 0:\n",
    "#             i += 1\n",
    "#             header = row\n",
    "#         else:\n",
    "#             row[0:2] = [row[0]+\" \"+row[1]]\n",
    "#             _dict = {}\n",
    "#             for elem, header_elem in zip(row, header):\n",
    "#                 _dict[header_elem] = elem\n",
    "#             out_data.append(_dict)\n",
    "\n",
    "# print (json.dumps(out_data))\n"
   ]
  },
  {
   "cell_type": "code",
   "execution_count": null,
   "metadata": {
    "collapsed": true
   },
   "outputs": [],
   "source": []
  }
 ],
 "metadata": {
  "kernelspec": {
   "display_name": "Python 3",
   "language": "python",
   "name": "python3"
  },
  "language_info": {
   "codemirror_mode": {
    "name": "ipython",
    "version": 3
   },
   "file_extension": ".py",
   "mimetype": "text/x-python",
   "name": "python",
   "nbconvert_exporter": "python",
   "pygments_lexer": "ipython3",
   "version": "3.6.0"
  }
 },
 "nbformat": 4,
 "nbformat_minor": 2
}
