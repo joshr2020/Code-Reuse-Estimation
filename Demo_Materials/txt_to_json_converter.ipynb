{
 "cells": [
  {
   "cell_type": "code",
   "execution_count": 1,
   "metadata": {
    "collapsed": false
   },
   "outputs": [
    {
     "name": "stdout",
     "output_type": "stream",
     "text": [
      "Enter the name of the first executable: base32\n",
      "Enter the name of the second executable: base64\n"
     ]
    }
   ],
   "source": [
    "import json\n",
    "import io\n",
    "import sys\n",
    "import csv\n",
    "import pandas as pd\n",
    "import subprocess\n",
    "from itertools import islice\n",
    "\n",
    "exe_one = input('Enter the name of the first executable: ')\n",
    "exe_two = input('Enter the name of the second executable: ')\n",
    "\n",
    "filepath_one = \"../testecutables/\" + exe_one\n",
    "filepath_two = \"../testecutables/\" + exe_two\n",
    "\n",
    "file_one_write_out = open(\"file_one_dump.txt\", \"w\")\n",
    "file_two_write_out = open (\"file_two_dump.txt\", \"w\")\n",
    "\n",
    "\n",
    "exe_one_dump = subprocess.run(['nm', '-S', filepath_one], stdout=file_one_write_out)\n",
    "exe_two_dump = subprocess.run(['nm', '-S', filepath_two], stdout=file_two_write_out)\n",
    "           \n",
    "\n",
    "# Working code for one\n",
    "# outfilename  = open(\"base32SizeDump_test_output.txt\",'w')\n",
    "# sys.stdout = outfilename\n",
    "\n",
    "# with open(\"base32SizeDump_test.txt\") as file:\n",
    "#     for line in file:\n",
    "#         line = line.lstrip()\n",
    "#         if (line.count(\" \") == 3):\n",
    "#             print (line)\n",
    "\n",
    "\n",
    "\n",
    "            \n",
    "\n",
    "\n"
   ]
  },
  {
   "cell_type": "code",
   "execution_count": 2,
   "metadata": {
    "collapsed": false
   },
   "outputs": [
    {
     "data": {
      "text/plain": [
       "Address        0000000000209010\n",
       "Size           0000000000000008\n",
       "Type                          D\n",
       "Symbol_Name             Version\n",
       "Name: 0, dtype: object"
      ]
     },
     "execution_count": 2,
     "metadata": {},
     "output_type": "execute_result"
    }
   ],
   "source": [
    "#File handle for first executable\n",
    "first_outfilename = open('file_one_dump_filtered.txt', 'w')\n",
    "with open(\"file_one_dump.txt\") as first_file:\n",
    "    for line in first_file:\n",
    "        line = line.lstrip()\n",
    "        if(line.count(\" \") == 3):\n",
    "            first_outfilename.write(line)\n",
    "            \n",
    "file_one_write_out.close()\n",
    "first_outfilename.close()\n",
    "    \n",
    "df1 = pd.read_table('file_one_dump_filtered.txt', delimiter = ' ', header = None)\n",
    "df1.columns = ['Address', 'Size', 'Type', 'Symbol_Name']\n",
    "df1.reset_index().to_json(orient='records')\n",
    "\n",
    "df1.ix[0]"
   ]
  },
  {
   "cell_type": "code",
   "execution_count": 4,
   "metadata": {
    "collapsed": false
   },
   "outputs": [
    {
     "data": {
      "text/plain": [
       "Address        0000000000209010\n",
       "Size           0000000000000008\n",
       "Type                          D\n",
       "Symbol_Name             Version\n",
       "Name: 0, dtype: object"
      ]
     },
     "execution_count": 4,
     "metadata": {},
     "output_type": "execute_result"
    }
   ],
   "source": [
    "#File handle for second executable    \n",
    "second_outfilename = open('file_two_dump_filtered.txt', 'w')\n",
    "\n",
    "with open(\"file_two_dump.txt\") as second_file:\n",
    "    for line in second_file:\n",
    "        line = line.lstrip()\n",
    "        if(line.count(\" \") == 3):\n",
    "            second_outfilename.write(line)\n",
    "            \n",
    "file_two_write_out.close()\n",
    "second_outfilename.close()\n",
    "df2 = pd.read_table('file_two_dump_filtered.txt', delimiter = ' ', header = None)\n",
    "df2.columns = ['Address', 'Size', 'Type', 'Symbol_Name']\n",
    "df2.reset_index().to_json(orient='records')\n",
    "\n",
    "df2.ix[0]"
   ]
  },
  {
   "cell_type": "code",
   "execution_count": 39,
   "metadata": {
    "collapsed": false
   },
   "outputs": [
    {
     "name": "stdout",
     "output_type": "stream",
     "text": [
      "Enter the name of the first executable: base32\n",
      "Enter the name of the second executable: base64\n"
     ]
    },
    {
     "data": {
      "text/plain": [
       "b'0000000000209010 0000000000000008 D Version\\n0000000000208c18 0000000000000000 d _DYNAMIC\\n0000000000208dd8 0000000000000000 d _GLOBAL_OFFSET_TABLE_\\n0000000000006240 0000000000000004 R _IO_stdin_used\\n0000000000000000 0000000000000000 w _ITM_deregisterTMCloneTable\\n0000000000000000 0000000000000000 w _ITM_registerTMCloneTable\\n0000000000000000 0000000000000000 w _Jv_RegisterClasses\\n00000000000083f0 0000000000000000 r __FRAME_END__\\n00000000000072f0 0000000000000000 r __GNU_EH_FRAME_HDR\\n0000000000208af8 0000000000000000 d __JCR_END__\\n0000000000208af8 0000000000000000 d __JCR_LIST__\\n00000000000072b0 000000000000000b r __PRETTY_FUNCTION__.4083\\n0000000000209080 0000000000000000 D __TMC_END__\\n                 0000000000000000 U __assert_fail@@GLIBC_2.2.5\\n0000000000209080 0000000000000000 B __bss_start\\n                 0000000000000000 U __ctype_b_loc@@GLIBC_2.3\\n                 0000000000000000 U __ctype_get_mb_cur_max@@GLIBC_2.2.5\\n                 0000000000000000 U __cxa_atexit@@GLIBC_2.2.5\\n0000000000000000 0000000000000000 w __cxa_finalize@@GLIBC_2.2.5\\n0000000000209000 0000000000000000 D __data_start\\n0000000000001bf0 0000000000000000 t __do_global_dtors_aux\\n0000000000208af0 0000000000000000 n __do_global_dtors_aux_fini_array_entry\\n0000000000209008 0000000000000000 D __dso_handle\\n                 0000000000000000 U __errno_location@@GLIBC_2.2.5\\n                 0000000000000000 U __fpending@@GLIBC_2.2.5\\n                 0000000000000000 U __fprintf_chk@@GLIBC_2.3.4\\n0000000000208ae8 0000000000000000 n __frame_dummy_init_array_entry\\n                 0000000000000000 U __freading@@GLIBC_2.2.5\\n0000000000000000 0000000000000000 w __gmon_start__\\n0000000000208af0 0000000000000000 n __init_array_end\\n0000000000208ae8 0000000000000000 n __init_array_start\\n00000000000061f0 0000000000000002 T __libc_csu_fini\\n0000000000006180 0000000000000065 T __libc_csu_init\\n                 0000000000000000 U __libc_start_main@@GLIBC_2.2.5\\n                 0000000000000000 U __overflow@@GLIBC_2.2.5\\n                 0000000000000000 U __printf_chk@@GLIBC_2.3.4\\n0000000000209080 0000000000000008 B __progname@@GLIBC_2.2.5\\n00000000002090a8 0000000000000008 B __progname_full@@GLIBC_2.2.5\\n                 0000000000000000 U __stack_chk_fail@@GLIBC_2.4\\n                 0000000000000000 U __strtoul_internal@@GLIBC_2.2.5\\n                 0000000000000000 U __uflow@@GLIBC_2.2.5\\n0000000000209080 0000000000000000 D _edata\\n0000000000209240 0000000000000000 B _end\\n                 0000000000000000 U _exit@@GLIBC_2.2.5\\n000000000000622c 0000000000000000 T _fini\\n0000000000001670 0000000000000000 T _init\\n0000000000001b30 000000000000002b T _start\\n                 0000000000000000 U abort@@GLIBC_2.2.5\\n0000000000006200 0000000000000029 t atexit\\n0000000000006800 0000000000000100 r b32\\n00000000000067e0 0000000000000020 r b32str.2987\\n0000000000002d80 00000000000000bf T base32_decode_alloc_ctx\\n0000000000002ad0 00000000000002a7 T base32_decode_ctx\\n0000000000002ac0 0000000000000007 T base32_decode_ctx_init\\n00000000000027a0 0000000000000270 T base32_encode\\n0000000000002a10 000000000000008d T base32_encode_alloc\\n                 0000000000000000 U bindtextdomain@@GLIBC_2.2.5\\n                 0000000000000000 U calloc@@GLIBC_2.2.5\\n0000000000209238 0000000000000008 b charset_aliases\\n0000000000004420 0000000000000036 T clone_quoting_options\\n                 0000000000000000 U close@@GLIBC_2.2.5\\n0000000000002e60 00000000000000ae T close_stdout\\n0000000000002e40 0000000000000008 T close_stdout_set_file_name\\n0000000000002e50 0000000000000008 T close_stdout_set_ignore_EPIPE\\n0000000000005c60 000000000000007a T close_stream\\n00000000002090c8 0000000000000001 b completed.7561\\n0000000000209000 0000000000000000 W data_start\\n                 0000000000000000 U dcgettext@@GLIBC_2.2.5\\n00000000000025d0 00000000000001cc t decode_8\\n0000000000209200 0000000000000038 b default_quoting_options\\n0000000000001b60 0000000000000000 t deregister_tm_clones\\n0000000000001c60 0000000000000262 t do_decode\\n0000000000001ed0 000000000000032d t do_encode\\n0000000000005210 0000000000000080 T emit_bug_reporting_address\\n                 0000000000000000 U error@@GLIBC_2.2.5\\n                 0000000000000000 U exit@@GLIBC_2.2.5\\n0000000000209018 0000000000000004 D exit_failure\\n0000000000002f20 0000000000000022 T fadvise\\n                 0000000000000000 U fclose@@GLIBC_2.2.5\\n0000000000002f10 0000000000000005 T fdadvise\\n                 0000000000000000 U fdopen@@GLIBC_2.2.5\\n                 0000000000000000 U fflush@@GLIBC_2.2.5\\n00000000002090d8 0000000000000008 b file_name\\n                 0000000000000000 U fileno@@GLIBC_2.2.5\\n                 0000000000000000 U fopen@@GLIBC_2.2.5\\n                 0000000000000000 U fputs_unlocked@@GLIBC_2.2.5\\n0000000000001c30 0000000000000000 t frame_dummy\\n                 0000000000000000 U fread_unlocked@@GLIBC_2.2.5\\n                 0000000000000000 U free@@GLIBC_2.2.5\\n                 0000000000000000 U fscanf@@GLIBC_2.2.5\\n                 0000000000000000 U fseeko@@GLIBC_2.2.5\\n                 0000000000000000 U fwrite@@GLIBC_2.2.5\\n                 0000000000000000 U fwrite_unlocked@@GLIBC_2.2.5\\n0000000000004460 0000000000000011 T get_quoting_style\\n                 0000000000000000 U getenv@@GLIBC_2.2.5\\n                 0000000000000000 U getopt_long@@GLIBC_2.2.5\\n0000000000002ff0 00000000000000d8 t gettext_quote.part.1\\n0000000000005ce0 0000000000000052 T hard_locale\\n00000000002090d0 0000000000000001 b ignore_EPIPE\\n0000000000002aa0 0000000000000015 T isbase32\\n                 0000000000000000 U iswprint@@GLIBC_2.2.5\\n0000000000005d40 000000000000043d T locale_charset\\n0000000000208b00 00000000000000c0 d long_options\\n                 0000000000000000 U lseek@@GLIBC_2.2.5\\n0000000000001870 00000000000002b7 T main\\n                 0000000000000000 U malloc@@GLIBC_2.2.5\\n                 0000000000000000 U mbrtowc@@GLIBC_2.2.5\\n                 0000000000000000 U mbsinit@@GLIBC_2.2.5\\n                 0000000000000000 U memchr@@GLIBC_2.2.5\\n                 0000000000000000 U memcmp@@GLIBC_2.2.5\\n                 0000000000000000 U memcpy@@GLIBC_2.14\\n                 0000000000000000 U memmove@@GLIBC_2.2.5\\n                 0000000000000000 U memset@@GLIBC_2.2.5\\n                 0000000000000000 U nl_langinfo@@GLIBC_2.2.5\\n0000000000209058 0000000000000004 d nslots\\n                 0000000000000000 U open@@GLIBC_2.2.5\\n00000000002090a0 0000000000000008 B optarg@@GLIBC_2.2.5\\n0000000000209098 0000000000000004 B optind@@GLIBC_2.2.5\\n                 0000000000000000 U posix_fadvise@@GLIBC_2.2.5\\n00000000002090a8 0000000000000008 V program_invocation_name@@GLIBC_2.2.5\\n0000000000209080 0000000000000008 V program_invocation_short_name@@GLIBC_2.2.5\\n00000000002090e0 0000000000000008 B program_name\\n0000000000004c50 0000000000000018 T quote\\n0000000000004c10 0000000000000014 T quote_mem\\n0000000000004c30 0000000000000013 T quote_n\\n0000000000004c00 000000000000000c T quote_n_mem\\n0000000000209020 0000000000000038 D quote_quoting_options\\n0000000000004780 0000000000000018 T quotearg\\n00000000000046a0 000000000000000a T quotearg_alloc\\n00000000000045b0 00000000000000e3 T quotearg_alloc_mem\\n0000000000004530 0000000000000074 T quotearg_buffer\\n00000000000030d0 0000000000001185 t quotearg_buffer_restyled\\n0000000000004a00 0000000000000010 T quotearg_char\\n0000000000004940 00000000000000ba T quotearg_char_mem\\n0000000000004a10 0000000000000011 T quotearg_colon\\n0000000000004a30 000000000000000a T quotearg_colon_mem\\n0000000000004bc0 0000000000000017 T quotearg_custom\\n0000000000004be0 0000000000000013 T quotearg_custom_mem\\n00000000000046b0 0000000000000093 T quotearg_free\\n00000000000047a0 0000000000000014 T quotearg_mem\\n0000000000004750 0000000000000013 T quotearg_n\\n0000000000004bb0 000000000000000c T quotearg_n_custom\\n0000000000004af0 00000000000000b2 T quotearg_n_custom_mem\\n0000000000004770 000000000000000c T quotearg_n_mem\\n0000000000004260 00000000000001b5 t quotearg_n_options\\n00000000000047c0 00000000000000ae T quotearg_n_style\\n0000000000004a40 00000000000000ae T quotearg_n_style_colon\\n0000000000004870 00000000000000a6 T quotearg_n_style_mem\\n0000000000004920 000000000000000c T quotearg_style\\n0000000000004930 000000000000000f T quotearg_style_mem\\n0000000000208bc0 0000000000000058 D quoting_style_args\\n0000000000006e00 0000000000000028 R quoting_style_vals\\n                 0000000000000000 U realloc@@GLIBC_2.2.5\\n0000000000001ba0 0000000000000000 t register_tm_clones\\n0000000000005ac0 000000000000007b T rpl_fclose\\n0000000000005b40 0000000000000040 T rpl_fflush\\n0000000000005b80 0000000000000057 T rpl_fseeko\\n0000000000005be0 000000000000007f T rpl_mbrtowc\\n00000000000044a0 0000000000000035 T set_char_quoting\\n0000000000004500 0000000000000030 T set_custom_quoting\\n0000000000002f50 0000000000000099 T set_program_name\\n00000000000044e0 0000000000000015 T set_quoting_flags\\n0000000000004480 0000000000000011 T set_quoting_style\\n                 0000000000000000 U setlocale@@GLIBC_2.2.5\\n0000000000209100 0000000000000100 b slot0\\n0000000000209060 0000000000000008 d slotvec\\n0000000000209070 0000000000000010 d slotvec0\\n00000000002090c0 0000000000000008 B stderr@@GLIBC_2.2.5\\n0000000000209090 0000000000000008 B stdin@@GLIBC_2.2.5\\n0000000000209088 0000000000000008 B stdout@@GLIBC_2.2.5\\n                 0000000000000000 U strchr@@GLIBC_2.2.5\\n                 0000000000000000 U strcmp@@GLIBC_2.2.5\\n                 0000000000000000 U strlen@@GLIBC_2.2.5\\n                 0000000000000000 U strncmp@@GLIBC_2.2.5\\n                 0000000000000000 U strrchr@@GLIBC_2.2.5\\n                 0000000000000000 U textdomain@@GLIBC_2.2.5\\n                 0000000000000000 U ungetc@@GLIBC_2.2.5\\n0000000000002200 00000000000003c5 T usage\\n0000000000005130 00000000000000d5 T version_etc\\n0000000000005090 0000000000000020 T version_etc_ar\\n0000000000004c70 0000000000000417 T version_etc_arn\\n0000000000007160 000000000000002f R version_etc_copyright\\n00000000000050b0 0000000000000078 T version_etc_va\\n0000000000005360 0000000000000079 T x2nrealloc\\n00000000000053e0 000000000000004a T x2realloc\\n00000000000054d0 0000000000000035 T xalloc_die\\n0000000000005450 000000000000002e T xcalloc\\n00000000000052e0 0000000000000002 T xcharalloc\\n0000000000005620 0000000000000021 T xdectoumax\\n0000000000005290 000000000000001a T xmalloc\\n0000000000005480 0000000000000028 T xmemdup\\n00000000000052b0 0000000000000024 T xnmalloc\\n0000000000005330 0000000000000024 T xnrealloc\\n0000000000005510 0000000000000105 T xnumtoumax\\n00000000000052f0 0000000000000036 T xrealloc\\n00000000000054b0 0000000000000013 T xstrdup\\n0000000000005650 000000000000046f T xstrtoumax\\n0000000000005430 0000000000000017 T xzalloc\\n'"
      ]
     },
     "execution_count": 39,
     "metadata": {},
     "output_type": "execute_result"
    }
   ],
   "source": [
    "# df = pd.read_table('base32SizeDump_test_output.txt', delimiter = ' ', header = None)\n",
    "# df.columns = ['Address', 'Size', 'Type', 'Symbol_Name']\n",
    "# df.reset_index().to_json(orient='records')\n",
    "# df.ix[0]\n",
    "\n",
    "\n",
    "\n",
    "\n",
    "\n",
    "# exe_one = input('Enter the name of the first executable: ')\n",
    "# exe_two = input('Enter the name of the second executable: ')\n",
    "\n",
    "# filepath_one = \"../testecutables/\" + exe_one\n",
    "# filepath_two = \"../testecutables/\" + exe_two\n",
    "\n",
    "# print(filepath_one)\n",
    "# print(filepath_two)\n",
    "\n",
    "# result = subprocess.run(['nm', '-S', filepath_one], stdout=subprocess.PIPE)\n",
    "# result.stdout"
   ]
  }
 ],
 "metadata": {
  "kernelspec": {
   "display_name": "Python 3",
   "language": "python",
   "name": "python3"
  },
  "language_info": {
   "codemirror_mode": {
    "name": "ipython",
    "version": 3
   },
   "file_extension": ".py",
   "mimetype": "text/x-python",
   "name": "python",
   "nbconvert_exporter": "python",
   "pygments_lexer": "ipython3",
   "version": "3.6.0"
  }
 },
 "nbformat": 4,
 "nbformat_minor": 2
}
