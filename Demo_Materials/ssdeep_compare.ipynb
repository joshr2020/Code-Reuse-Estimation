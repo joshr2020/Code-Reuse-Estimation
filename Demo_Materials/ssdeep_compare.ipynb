{
 "cells": [
  {
   "cell_type": "code",
   "execution_count": 48,
   "metadata": {
    "collapsed": false
   },
   "outputs": [
    {
     "data": {
      "image/png": "[encoded data removed]",
      "text/plain": [
       "<matplotlib.figure.Figure at 0x11407b7b8>"
      ]
     },
     "metadata": {},
     "output_type": "display_data"
    }
   ],
   "source": [
    "import subprocess\n",
    "import os\n",
    "import sys\n",
    "import pandas as pd\n",
    "import numpy as np\n",
    "import seaborn as sns\n",
    "from pprint import pprint\n",
    "import matplotlib.pyplot as plt\n",
    "\n",
    "%matplotlib inline\n",
    "\n",
    "binary_compare_df = pd.read_csv(\"GNUAnalysis.txt\", header = None)\n",
    "ssdeep_df = pd.read_csv(\"ssdeep_all.csv\", header = None)\n",
    "\n",
    "binary_compare_df.columns = ['Binary #1', 'Binary #2', 'Similarity Index']\n",
    "ssdeep_df.columns = ['Binary #1', 'Binary #2', 'Similarity Index']\n",
    "\n",
    "binary_compare_dict = {}\n",
    "ssdeep_compare_dict = {}\n",
    "for i, row in binary_compare_df.iterrows():\n",
    "    firstStrippedPath = row[\"Binary #1\"].rsplit(\"/\", 1)[1]\n",
    "    secondStrippedPath = row[\"Binary #2\"].rsplit(\"/\", 1)[1]\n",
    "    binary_compare_df.set_value(i, \"Binary #1\", firstStrippedPath)\n",
    "    binary_compare_df.set_value(i, \"Binary #2\", secondStrippedPath)\n",
    "    binary_compare_key = frozenset((firstStrippedPath, secondStrippedPath))\n",
    "    binary_compare_dict[binary_compare_key] = row['Similarity Index']\n",
    "    \n",
    "for i, row in ssdeep_df.iterrows():\n",
    "    firstStrippedPath = row[\"Binary #1\"].rsplit(\"/\", 1)[1]\n",
    "    secondStrippedPath = row[\"Binary #2\"].rsplit(\"/\", 1)[1]\n",
    "    ssdeep_df.set_value(i, \"Binary #1\", firstStrippedPath)\n",
    "    ssdeep_df.set_value(i, \"Binary #2\", secondStrippedPath)\n",
    "    ssdeep_compare_key = frozenset((firstStrippedPath, secondStrippedPath))\n",
    "    ssdeep_compare_dict[ssdeep_compare_key] = row['Similarity Index']\n",
    "    \n",
    "keys_binary_compare = set(binary_compare_dict.keys())\n",
    "keys_ssdeep_compare = set(ssdeep_compare_dict.keys())\n",
    "\n",
    "intersection = keys_binary_compare & keys_ssdeep_compare\n",
    "intersection_dict = {}\n",
    "intersection_value_list = []\n",
    "\n",
    "for i in intersection:\n",
    "    intersection_dict[i] = binary_compare_dict[i] - ssdeep_compare_dict[i]\n",
    "    intersection_value_list.append(binary_compare_dict[i] - ssdeep_compare_dict[i])\n",
    "    \n",
    "# for key, value in intersection_dict.items():\n",
    "#     print(key, value)\n",
    "\n",
    "\n",
    "\n",
    "sns.set(style=\"whitegrid\", color_codes=True)\n",
    "ax = sns.boxplot(data = intersection_value_list)\n",
    "ax.set(xlabel = \"ssdeep\", ylabel = \"Index differential %\")\n",
    "plt.ylim(0, 1)\n",
    "plt.show()\n",
    "\n",
    "\n",
    "\n"
   ]
  },
  {
   "cell_type": "code",
   "execution_count": null,
   "metadata": {
    "collapsed": true
   },
   "outputs": [],
   "source": []
  }
 ],
 "metadata": {
  "kernelspec": {
   "display_name": "Python 3",
   "language": "python",
   "name": "python3"
  },
  "language_info": {
   "codemirror_mode": {
    "name": "ipython",
    "version": 3
   },
   "file_extension": ".py",
   "mimetype": "text/x-python",
   "name": "python",
   "nbconvert_exporter": "python",
   "pygments_lexer": "ipython3",
   "version": "3.6.0"
  }
 },
 "nbformat": 4,
 "nbformat_minor": 2
}
