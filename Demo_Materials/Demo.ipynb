{
 "cells": [
  {
   "cell_type": "code",
   "execution_count": 33,
   "metadata": {
    "collapsed": false
   },
   "outputs": [
    {
     "name": "stdout",
     "output_type": "stream",
     "text": [
      "base32 total symbol size:  19136\n",
      "base64 total symbol size:  18800\n",
      "pwd total symbol size:  15368\n",
      "base32 and base64 overlap size:  2369\n",
      "pwd and base64 overlap size:  2116\n",
      "Percentage overlap between base32 and base64:  0.06660668597295245\n",
      "Percentage overlap between pwd and base64:  0.06601772120304505\n"
     ]
    }
   ],
   "source": [
    "import json\n",
    "import io\n",
    "from pprint import pprint\n",
    "\n",
    "#base32Dict Compilation\n",
    "with io.open('base32SizeDump.json', 'r', encoding='utf-8-sig') as base32Data:    \n",
    "    base32_data = json.load(base32Data) \n",
    "base32Dict = {}\n",
    "\n",
    "for obj in base32_data:\n",
    "    base32Dict[obj['Symbol_Name']] = obj['Size']\n",
    "\n",
    "#base64Dict compilation\n",
    "with io.open('base64SizeDump.json', 'r', encoding='utf-8-sig') as base64Data:    \n",
    "    base64_data = json.load(base64Data)\n",
    "base64Dict = {}\n",
    "\n",
    "for obj in base64_data:\n",
    "    base64Dict[obj['Symbol_Name']] = obj['Size']\n",
    "    \n",
    "#pwdDict compilation\n",
    "with io.open('pwdSizeDump.json', 'r', encoding='utf-8-sig') as pwdData:    \n",
    "    pwdData = json.load(pwdData)\n",
    "pwdDict = {}\n",
    "\n",
    "for obj in pwdData:\n",
    "    pwdDict[obj['Symbol_Name']] = obj['Size']\n",
    "    \n",
    "\n",
    "\n",
    "#Compare base32 to base64\n",
    "keys_base32 = set(base32Dict.keys())\n",
    "keys_base64 = set(base64Dict.keys())\n",
    "base32_base64_intersection = keys_base32 & keys_base64\n",
    "\n",
    "\n",
    "base32_total = 0\n",
    "base64_total = 0\n",
    "base32_base64_overlap_size = 0\n",
    "for size in base32Dict:\n",
    "    base32_total += int(base32Dict.get(size), 16 )\n",
    "    \n",
    "for size in base64Dict:\n",
    "    base64_total += int(base64Dict.get(size), 16)\n",
    "\n",
    "for key in base32_base64_intersection:\n",
    "    base32_base64_overlap_size += int(base32Dict.get(size), 16)\n",
    "    \n",
    "    \n",
    "base32_base64_result = base32_base64_overlap_size / ( (base32_total + base64_total) - base32_base64_overlap_size ) \n",
    "\n",
    "    \n",
    "#Compare pwd to base64\n",
    "keys_pwd = set(pwdDict.keys())\n",
    "keys_base64 = set(base64Dict.keys())\n",
    "pwd_base64_intersection = keys_pwd & keys_base64\n",
    "    \n",
    "pwd_total = 0\n",
    "pwd_base64_overlap_size = 0\n",
    "\n",
    "for size in pwdDict:\n",
    "    pwd_total += int(pwdDict.get(size), 16)\n",
    "    \n",
    "for key in pwd_base64_intersection:\n",
    "    pwd_base64_overlap_size += int(pwdDict.get(size), 16)\n",
    "\n",
    "pwd_base64_result = pwd_base64_overlap_size / ( (pwd_total + base64_total) - pwd_base64_overlap_size )\n",
    "\n",
    "\n",
    "\n",
    "#Printing results\n",
    "print(\"base32 total symbol size: \", base32_total)\n",
    "print(\"base64 total symbol size: \", base64_total)\n",
    "print(\"pwd total symbol size: \", pwd_total)\n",
    "print(\"base32 and base64 overlap size: \", base32_base64_overlap_size)\n",
    "print(\"pwd and base64 overlap size: \", pwd_base64_overlap_size)\n",
    "print(\"Percentage overlap between base32 and base64: \", base32_base64_result)\n",
    "print(\"Percentage overlap between pwd and base64: \", pwd_base64_result)\n",
    "\n"
   ]
  },
  {
   "cell_type": "code",
   "execution_count": null,
   "metadata": {
    "collapsed": true
   },
   "outputs": [],
   "source": []
  }
 ],
 "metadata": {
  "kernelspec": {
   "display_name": "Python 3",
   "language": "python",
   "name": "python3"
  },
  "language_info": {
   "codemirror_mode": {
    "name": "ipython",
    "version": 3
   },
   "file_extension": ".py",
   "mimetype": "text/x-python",
   "name": "python",
   "nbconvert_exporter": "python",
   "pygments_lexer": "ipython3",
   "version": "3.6.0"
  }
 },
 "nbformat": 4,
 "nbformat_minor": 2
}
