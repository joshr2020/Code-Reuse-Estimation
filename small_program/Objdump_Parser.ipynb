{
 "cells": [
  {
   "cell_type": "code",
   "execution_count": 16,
   "metadata": {
    "collapsed": false
   },
   "outputs": [
    {
     "name": "stdout",
     "output_type": "stream",
     "text": [
      "Disassembly of section .init:\n",
      "0000000000000530 <_init>:\n",
      "Disassembly of section .plt:\n",
      "0000000000000550 <.plt>:\n",
      "Disassembly of section .plt.got:\n",
      "0000000000000560 <.plt.got>:\n",
      "Disassembly of section .text:\n",
      "0000000000000570 <_start>:\n",
      "00000000000005a0 <deregister_tm_clones>:\n",
      "00000000000005e0 <register_tm_clones>:\n",
      "0000000000000630 <__do_global_dtors_aux>:\n",
      "0000000000000670 <frame_dummy>:\n",
      "00000000000006a0 <add>:\n",
      "00000000000006b4 <main>:\n",
      "0000000000000700 <__libc_csu_init>:\n",
      "0000000000000770 <__libc_csu_fini>:\n",
      "Disassembly of section .fini:\n",
      "0000000000000774 <_fini>:\n"
     ]
    }
   ],
   "source": [
    "\n",
    "\n",
    "f = open(\"objdumptxt.txt\", \"r\")\n",
    "filename = 'objdumptxt_output.txt' \n",
    "for line in f:\n",
    "    line=line.strip()\n",
    "    if line.endswith(':'):\n",
    "        with open(filename, 'w') as out:\n",
    "            out.write(line + '\\n')\n",
    "        print(line)\n",
    "\n",
    "f.close()"
   ]
  },
  {
   "cell_type": "code",
   "execution_count": null,
   "metadata": {
    "collapsed": true
   },
   "outputs": [],
   "source": []
  },
  {
   "cell_type": "code",
   "execution_count": null,
   "metadata": {
    "collapsed": true
   },
   "outputs": [],
   "source": []
  }
 ],
 "metadata": {
  "kernelspec": {
   "display_name": "Python 3",
   "language": "python",
   "name": "python3"
  },
  "language_info": {
   "codemirror_mode": {
    "name": "ipython",
    "version": 3
   },
   "file_extension": ".py",
   "mimetype": "text/x-python",
   "name": "python",
   "nbconvert_exporter": "python",
   "pygments_lexer": "ipython3",
   "version": "3.6.0"
  }
 },
 "nbformat": 4,
 "nbformat_minor": 2
}
